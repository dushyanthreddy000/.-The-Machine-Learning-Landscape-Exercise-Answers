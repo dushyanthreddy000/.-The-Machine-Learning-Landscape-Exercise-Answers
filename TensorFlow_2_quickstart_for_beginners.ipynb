{
  "nbformat": 4,
  "nbformat_minor": 0,
  "metadata": {
    "colab": {
      "name": "TensorFlow 2 quickstart for beginners.ipynb",
      "provenance": [],
      "authorship_tag": "ABX9TyN90HjzL58lWwQPivpu/GQx",
      "include_colab_link": true
    },
    "kernelspec": {
      "name": "python3",
      "display_name": "Python 3"
    },
    "language_info": {
      "name": "python"
    }
  },
  "cells": [
    {
      "cell_type": "markdown",
      "metadata": {
        "id": "view-in-github",
        "colab_type": "text"
      },
      "source": [
        "<a href=\"https://colab.research.google.com/github/dushyanthreddy000/.-The-Machine-Learning-Landscape-Exercise-Answers/blob/main/TensorFlow_2_quickstart_for_beginners.ipynb\" target=\"_parent\"><img src=\"https://colab.research.google.com/assets/colab-badge.svg\" alt=\"Open In Colab\"/></a>"
      ]
    },
    {
      "cell_type": "code",
      "execution_count": 1,
      "metadata": {
        "colab": {
          "base_uri": "https://localhost:8080/"
        },
        "id": "v6oc9Kc_PtWp",
        "outputId": "02ffa261-8295-4292-8cb4-f3f549af182e"
      },
      "outputs": [
        {
          "output_type": "stream",
          "name": "stdout",
          "text": [
            "TensorFlow version: 2.8.0\n"
          ]
        }
      ],
      "source": [
        "import tensorflow as tf\n",
        "print(\"TensorFlow version:\", tf.__version__)"
      ]
    },
    {
      "cell_type": "code",
      "source": [
        "mnist = tf.keras.datasets.mnist\n",
        "\n",
        "(x_train, y_train), (x_test, y_test) = mnist.load_data()\n",
        "x_train, x_test = x_train / 255.0, x_test / 255.0"
      ],
      "metadata": {
        "id": "pEIGK2d-Qg4l"
      },
      "execution_count": 4,
      "outputs": []
    },
    {
      "cell_type": "code",
      "source": [
        "model = tf.keras.models.Sequential([\n",
        "  tf.keras.layers.Flatten(input_shape=(28, 28)),\n",
        "  tf.keras.layers.Dense(128, activation='relu'),\n",
        "  tf.keras.layers.Dropout(0.2),\n",
        "  tf.keras.layers.Dense(10)\n",
        "])"
      ],
      "metadata": {
        "id": "RRSKtMHHRGzw"
      },
      "execution_count": 5,
      "outputs": []
    },
    {
      "cell_type": "code",
      "source": [
        "predictions = model(x_train[:1]).numpy()\n",
        "predictions"
      ],
      "metadata": {
        "colab": {
          "base_uri": "https://localhost:8080/"
        },
        "id": "I3K3Y1arT7O_",
        "outputId": "a40e2c61-bb13-4d14-f405-5c1283fe9b98"
      },
      "execution_count": 6,
      "outputs": [
        {
          "output_type": "execute_result",
          "data": {
            "text/plain": [
              "array([[-0.5610621 ,  0.1818763 , -0.3396007 ,  0.81668067,  0.28056648,\n",
              "        -0.06740208, -0.18907978, -0.78823453, -0.23380327,  0.6101173 ]],\n",
              "      dtype=float32)"
            ]
          },
          "metadata": {},
          "execution_count": 6
        }
      ]
    },
    {
      "cell_type": "code",
      "source": [
        "tf.nn.softmax(predictions).numpy()"
      ],
      "metadata": {
        "colab": {
          "base_uri": "https://localhost:8080/"
        },
        "id": "115snn7oUsRg",
        "outputId": "d77f3acd-cd8d-4e5b-9137-e422f2452605"
      },
      "execution_count": 7,
      "outputs": [
        {
          "output_type": "execute_result",
          "data": {
            "text/plain": [
              "array([[0.05226099, 0.10985801, 0.06521644, 0.20726393, 0.12125294,\n",
              "        0.08561926, 0.07581018, 0.04164069, 0.07249438, 0.16858324]],\n",
              "      dtype=float32)"
            ]
          },
          "metadata": {},
          "execution_count": 7
        }
      ]
    },
    {
      "cell_type": "code",
      "source": [
        "loss_fn = tf.keras.losses.SparseCategoricalCrossentropy(from_logits=True)"
      ],
      "metadata": {
        "id": "mAgMYj9hUuL4"
      },
      "execution_count": 8,
      "outputs": []
    },
    {
      "cell_type": "code",
      "source": [
        "loss_fn(y_train[:1], predictions).numpy()"
      ],
      "metadata": {
        "colab": {
          "base_uri": "https://localhost:8080/"
        },
        "id": "FuOVfEVlVPWv",
        "outputId": "6def7787-30a7-43fd-a096-b8f88f8c4291"
      },
      "execution_count": 9,
      "outputs": [
        {
          "output_type": "execute_result",
          "data": {
            "text/plain": [
              "2.457845"
            ]
          },
          "metadata": {},
          "execution_count": 9
        }
      ]
    },
    {
      "cell_type": "code",
      "source": [
        "model.compile(optimizer='adam',\n",
        "              loss=loss_fn,\n",
        "              metrics=['accuracy'])"
      ],
      "metadata": {
        "id": "njUM4NDnVtTs"
      },
      "execution_count": 10,
      "outputs": []
    },
    {
      "cell_type": "code",
      "source": [
        "model.fit(x_train, y_train, epochs=5)"
      ],
      "metadata": {
        "colab": {
          "base_uri": "https://localhost:8080/"
        },
        "id": "jNC7RkTAWmuy",
        "outputId": "13188962-22e9-4050-820f-345332250d06"
      },
      "execution_count": 11,
      "outputs": [
        {
          "output_type": "stream",
          "name": "stdout",
          "text": [
            "Epoch 1/5\n",
            "1875/1875 [==============================] - 6s 3ms/step - loss: 0.2967 - accuracy: 0.9152\n",
            "Epoch 2/5\n",
            "1875/1875 [==============================] - 5s 3ms/step - loss: 0.1408 - accuracy: 0.9587\n",
            "Epoch 3/5\n",
            "1875/1875 [==============================] - 5s 3ms/step - loss: 0.1057 - accuracy: 0.9681\n",
            "Epoch 4/5\n",
            "1875/1875 [==============================] - 5s 3ms/step - loss: 0.0870 - accuracy: 0.9742\n",
            "Epoch 5/5\n",
            "1875/1875 [==============================] - 5s 3ms/step - loss: 0.0742 - accuracy: 0.9773\n"
          ]
        },
        {
          "output_type": "execute_result",
          "data": {
            "text/plain": [
              "<keras.callbacks.History at 0x7ffa22ec1d50>"
            ]
          },
          "metadata": {},
          "execution_count": 11
        }
      ]
    },
    {
      "cell_type": "code",
      "source": [
        "model.evaluate(x_test,  y_test, verbose=2)"
      ],
      "metadata": {
        "colab": {
          "base_uri": "https://localhost:8080/"
        },
        "id": "oRrPv-02YPx0",
        "outputId": "2cbd5aaa-114a-42bc-a9a2-510826191578"
      },
      "execution_count": 12,
      "outputs": [
        {
          "output_type": "stream",
          "name": "stdout",
          "text": [
            "313/313 - 1s - loss: 0.0707 - accuracy: 0.9781 - 788ms/epoch - 3ms/step\n"
          ]
        },
        {
          "output_type": "execute_result",
          "data": {
            "text/plain": [
              "[0.07067304104566574, 0.9781000018119812]"
            ]
          },
          "metadata": {},
          "execution_count": 12
        }
      ]
    },
    {
      "cell_type": "code",
      "source": [
        "probability_model = tf.keras.Sequential([\n",
        "  model,\n",
        "  tf.keras.layers.Softmax()\n",
        "])"
      ],
      "metadata": {
        "id": "YAT1opJ6YuL-"
      },
      "execution_count": 13,
      "outputs": []
    },
    {
      "cell_type": "code",
      "source": [
        "probability_model(x_test[:5])"
      ],
      "metadata": {
        "colab": {
          "base_uri": "https://localhost:8080/"
        },
        "id": "SAxbyr7TYwFk",
        "outputId": "38f90580-5e78-4c22-b6db-872ebf71e71c"
      },
      "execution_count": 14,
      "outputs": [
        {
          "output_type": "execute_result",
          "data": {
            "text/plain": [
              "<tf.Tensor: shape=(5, 10), dtype=float32, numpy=\n",
              "array([[4.48901538e-09, 7.45757589e-09, 1.08066445e-06, 2.41840346e-04,\n",
              "        9.04831505e-12, 6.14906583e-07, 8.73415377e-16, 9.99753535e-01,\n",
              "        8.94560060e-07, 2.05709489e-06],\n",
              "       [6.57061605e-08, 4.47829152e-05, 9.99928832e-01, 2.38350240e-05,\n",
              "        8.84111616e-17, 7.96234012e-09, 5.49913537e-08, 2.42906858e-11,\n",
              "        2.37834251e-06, 2.21427203e-14],\n",
              "       [1.77779418e-06, 9.96675253e-01, 2.60348461e-04, 4.96222237e-05,\n",
              "        6.34368043e-05, 1.01150235e-05, 5.87568029e-05, 2.54197349e-03,\n",
              "        3.37748526e-04, 9.94977995e-07],\n",
              "       [9.99603331e-01, 2.09869569e-07, 1.36931674e-04, 4.07034889e-07,\n",
              "        3.84593790e-07, 1.47605737e-04, 8.29359560e-05, 1.26549994e-05,\n",
              "        3.54369445e-06, 1.20184195e-05],\n",
              "       [2.70069609e-06, 1.23222961e-08, 4.35339962e-06, 1.90999771e-07,\n",
              "        9.99406457e-01, 3.58141506e-06, 6.27649888e-06, 1.19173255e-05,\n",
              "        4.27727036e-06, 5.60203800e-04]], dtype=float32)>"
            ]
          },
          "metadata": {},
          "execution_count": 14
        }
      ]
    },
    {
      "cell_type": "markdown",
      "source": [
        "Congratulations! You have trained a machine learning model using a prebuilt dataset using the Keras API."
      ],
      "metadata": {
        "id": "ZOxYnAGiY867"
      }
    }
  ]
}